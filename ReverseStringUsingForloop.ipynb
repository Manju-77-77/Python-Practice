{
 "cells": [
  {
   "cell_type": "code",
   "execution_count": null,
   "id": "099797b0-eccc-4eb3-9752-5c19758a4b5f",
   "metadata": {},
   "outputs": [],
   "source": [
    "t=input(\"Enter Something =\")\n",
    "rev=\"\"\n",
    "for j in t:\n",
    "    rev=j+rev\n",
    "print(rev)\n",
    "\n",
    "if t==rev:\n",
    "    print(\"Palindrome\")\n",
    "else:\n",
    "    print(\"Not a Palindrome\")"
   ]
  }
 ],
 "metadata": {
  "kernelspec": {
   "display_name": "Python 3 (ipykernel)",
   "language": "python",
   "name": "python3"
  },
  "language_info": {
   "codemirror_mode": {
    "name": "ipython",
    "version": 3
   },
   "file_extension": ".py",
   "mimetype": "text/x-python",
   "name": "python",
   "nbconvert_exporter": "python",
   "pygments_lexer": "ipython3",
   "version": "3.12.4"
  }
 },
 "nbformat": 4,
 "nbformat_minor": 5
}
