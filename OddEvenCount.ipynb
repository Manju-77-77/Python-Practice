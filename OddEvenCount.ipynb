{
 "cells": [
  {
   "cell_type": "code",
   "execution_count": 17,
   "id": "128e358d-0119-45db-b7f8-1865e2cd0488",
   "metadata": {},
   "outputs": [
    {
     "name": "stdout",
     "output_type": "stream",
     "text": [
      "Even Numbers= 25\n",
      "Odd Numbers= 25\n"
     ]
    }
   ],
   "source": [
    "eve=0\n",
    "odd=0\n",
    "for i in range(0,50):\n",
    "    if i%2==0:\n",
    "        eve+=1\n",
    "    else:\n",
    "        odd+=1\n",
    "print(\"Even Numbers=\",eve)\n",
    "print(\"Odd Numbers=\",odd)\n",
    "        "
   ]
  },
  {
   "cell_type": "code",
   "execution_count": null,
   "id": "e4bd94ad-2645-47fa-8b24-a441c7e2f4d4",
   "metadata": {},
   "outputs": [],
   "source": []
  }
 ],
 "metadata": {
  "kernelspec": {
   "display_name": "Python 3 (ipykernel)",
   "language": "python",
   "name": "python3"
  },
  "language_info": {
   "codemirror_mode": {
    "name": "ipython",
    "version": 3
   },
   "file_extension": ".py",
   "mimetype": "text/x-python",
   "name": "python",
   "nbconvert_exporter": "python",
   "pygments_lexer": "ipython3",
   "version": "3.12.4"
  }
 },
 "nbformat": 4,
 "nbformat_minor": 5
}
