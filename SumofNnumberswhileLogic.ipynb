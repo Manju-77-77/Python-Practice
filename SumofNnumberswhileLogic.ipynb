{
 "cells": [
  {
   "cell_type": "code",
   "execution_count": null,
   "id": "b622ce3f-847a-4960-b96a-65f5a1ca0427",
   "metadata": {},
   "outputs": [],
   "source": [
    "n = int(input(\"Enter a Number: \"))\n",
    "sum = 0\n",
    "i = 1\n",
    "\n",
    "while i <= n:\n",
    "    sum += i\n",
    "    print(i)\n",
    "    i += 1\n",
    "\n",
    "avg = sum / 2\n",
    "print(\"Total sum =\", sum)\n",
    "print(\"Average of sum =\", avg)"
   ]
  }
 ],
 "metadata": {
  "kernelspec": {
   "display_name": "Python 3 (ipykernel)",
   "language": "python",
   "name": "python3"
  },
  "language_info": {
   "codemirror_mode": {
    "name": "ipython",
    "version": 3
   },
   "file_extension": ".py",
   "mimetype": "text/x-python",
   "name": "python",
   "nbconvert_exporter": "python",
   "pygments_lexer": "ipython3",
   "version": "3.12.4"
  }
 },
 "nbformat": 4,
 "nbformat_minor": 5
}
