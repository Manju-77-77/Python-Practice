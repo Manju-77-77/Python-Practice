{
 "cells": [
  {
   "cell_type": "code",
   "execution_count": 5,
   "id": "757840c6-ee77-4023-9cfd-9ef056624819",
   "metadata": {},
   "outputs": [
    {
     "name": "stdin",
     "output_type": "stream",
     "text": [
      "Enter a Number:  5\n",
      "Enter a Number:  10\n"
     ]
    },
    {
     "name": "stdout",
     "output_type": "stream",
     "text": [
      "45\n"
     ]
    }
   ],
   "source": [
    "x = int(input(\"Enter a Number: \"))\n",
    "y = int(input(\"Enter a Number: \"))\n",
    "total = 0\n",
    "\n",
    "while x <= y:\n",
    "    total += x\n",
    "    x+=1\n",
    "print(total)"
   ]
  }
 ],
 "metadata": {
  "kernelspec": {
   "display_name": "Python 3 (ipykernel)",
   "language": "python",
   "name": "python3"
  },
  "language_info": {
   "codemirror_mode": {
    "name": "ipython",
    "version": 3
   },
   "file_extension": ".py",
   "mimetype": "text/x-python",
   "name": "python",
   "nbconvert_exporter": "python",
   "pygments_lexer": "ipython3",
   "version": "3.12.4"
  }
 },
 "nbformat": 4,
 "nbformat_minor": 5
}
