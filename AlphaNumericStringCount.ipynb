{
 "cells": [
  {
   "cell_type": "code",
   "execution_count": null,
   "id": "099797b0-eccc-4eb3-9752-5c19758a4b5f",
   "metadata": {},
   "outputs": [],
   "source": [
    "\n",
    "x=input(\"Enter a String\")\n",
    "digit=0\n",
    "alphabet=0\n",
    "for i in x:\n",
    "    if i.isdigit():\n",
    "        digit+=1\n",
    "    elif i.isalpha():\n",
    "        alphabet+=1\n",
    "print(\"The Number of Digits=\",digit)\n",
    "print(\"The Number of Alphabets=\",alphabet)"
   ]
  }
 ],
 "metadata": {
  "kernelspec": {
   "display_name": "Python 3 (ipykernel)",
   "language": "python",
   "name": "python3"
  },
  "language_info": {
   "codemirror_mode": {
    "name": "ipython",
    "version": 3
   },
   "file_extension": ".py",
   "mimetype": "text/x-python",
   "name": "python",
   "nbconvert_exporter": "python",
   "pygments_lexer": "ipython3",
   "version": "3.12.4"
  }
 },
 "nbformat": 4,
 "nbformat_minor": 5
}
