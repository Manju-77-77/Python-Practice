{
 "cells": [
  {
   "cell_type": "code",
   "execution_count": 6,
   "id": "757840c6-ee77-4023-9cfd-9ef056624819",
   "metadata": {},
   "outputs": [
    {
     "name": "stdin",
     "output_type": "stream",
     "text": [
      " 4\n",
      " -1\n",
      " -2\n",
      " 3\n",
      " -4\n"
     ]
    },
    {
     "name": "stdout",
     "output_type": "stream",
     "text": [
      "Number of positive numbers entered: 1\n",
      "Number of negative numbers entered: 3\n"
     ]
    }
   ],
   "source": [
    "n = int(input())\n",
    "positive_count = 0\n",
    "negative_count = 0\n",
    "i = 0\n",
    "\n",
    "while i < n:\n",
    "    num = int(input())\n",
    "    \n",
    "    if num >= 0:\n",
    "        positive_count += 1\n",
    "    else:\n",
    "        negative_count += 1\n",
    "    \n",
    "    i += 1\n",
    "\n",
    "print(f\"Number of positive numbers entered: {positive_count}\")\n",
    "print(f\"Number of negative numbers entered: {negative_count}\")"
   ]
  },
  {
   "cell_type": "code",
   "execution_count": null,
   "id": "1d711e81-9ba7-4608-aeb5-8e735e7ac9cd",
   "metadata": {},
   "outputs": [],
   "source": []
  }
 ],
 "metadata": {
  "kernelspec": {
   "display_name": "Python 3 (ipykernel)",
   "language": "python",
   "name": "python3"
  },
  "language_info": {
   "codemirror_mode": {
    "name": "ipython",
    "version": 3
   },
   "file_extension": ".py",
   "mimetype": "text/x-python",
   "name": "python",
   "nbconvert_exporter": "python",
   "pygments_lexer": "ipython3",
   "version": "3.12.4"
  }
 },
 "nbformat": 4,
 "nbformat_minor": 5
}
